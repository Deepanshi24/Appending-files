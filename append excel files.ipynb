{
 "cells": [
  {
   "cell_type": "code",
   "execution_count": 1,
   "metadata": {},
   "outputs": [],
   "source": [
    "import pandas as pd\n",
    "import glob \n",
    "import os\n",
    "\n"
   ]
  },
  {
   "cell_type": "code",
   "execution_count": 2,
   "metadata": {},
   "outputs": [
    {
     "data": {
      "text/plain": [
       "35"
      ]
     },
     "execution_count": 2,
     "metadata": {},
     "output_type": "execute_result"
    }
   ],
   "source": [
    "path, dirs, files = next(os.walk(\"C:\\\\Users\\\\HP\\\\Documents\\\\fac_2014_15\"))\n",
    "file_count = len(files)\n",
    "file_count"
   ]
  },
  {
   "cell_type": "code",
   "execution_count": 3,
   "metadata": {},
   "outputs": [],
   "source": [
    "path = 'C:\\\\Users\\\\HP\\\\Documents\\\\fac_2014_15'\n",
    "files = glob.glob(path + \"/*.xlsx\")"
   ]
  },
  {
   "cell_type": "code",
   "execution_count": 4,
   "metadata": {},
   "outputs": [],
   "source": [
    "files1 = []"
   ]
  },
  {
   "cell_type": "code",
   "execution_count": 5,
   "metadata": {},
   "outputs": [
    {
     "name": "stdout",
     "output_type": "stream",
     "text": [
      "C:\\Users\\HP\\Documents\\fac_2014_15\\DISE_Facility_Data_an.xlsx\n",
      "C:\\Users\\HP\\Documents\\fac_2014_15\\DISE_Facility_Data_ap.xlsx\n",
      "C:\\Users\\HP\\Documents\\fac_2014_15\\DISE_Facility_Data_aru.xlsx\n",
      "C:\\Users\\HP\\Documents\\fac_2014_15\\DISE_Facility_Data_asm.xlsx\n",
      "C:\\Users\\HP\\Documents\\fac_2014_15\\DISE_Facility_Data_bih.xlsx\n",
      "C:\\Users\\HP\\Documents\\fac_2014_15\\DISE_Facility_Data_chd.xlsx\n",
      "C:\\Users\\HP\\Documents\\fac_2014_15\\DISE_Facility_Data_cht.xlsx\n",
      "C:\\Users\\HP\\Documents\\fac_2014_15\\DISE_Facility_Data_del.xlsx\n",
      "C:\\Users\\HP\\Documents\\fac_2014_15\\DISE_Facility_Data_dnd.xlsx\n",
      "C:\\Users\\HP\\Documents\\fac_2014_15\\DISE_Facility_Data_dnh.xlsx\n",
      "C:\\Users\\HP\\Documents\\fac_2014_15\\DISE_Facility_Data_goa.xlsx\n",
      "C:\\Users\\HP\\Documents\\fac_2014_15\\DISE_Facility_Data_guj.xlsx\n",
      "C:\\Users\\HP\\Documents\\fac_2014_15\\DISE_Facility_Data_har.xlsx\n",
      "C:\\Users\\HP\\Documents\\fac_2014_15\\DISE_Facility_Data_hp.xlsx\n",
      "C:\\Users\\HP\\Documents\\fac_2014_15\\DISE_Facility_Data_jha.xlsx\n",
      "C:\\Users\\HP\\Documents\\fac_2014_15\\DISE_Facility_Data_kar.xlsx\n",
      "C:\\Users\\HP\\Documents\\fac_2014_15\\DISE_Facility_Data_ker.xlsx\n",
      "C:\\Users\\HP\\Documents\\fac_2014_15\\DISE_Facility_Data_lak.xlsx\n",
      "C:\\Users\\HP\\Documents\\fac_2014_15\\DISE_Facility_Data_mah.xlsx\n",
      "C:\\Users\\HP\\Documents\\fac_2014_15\\DISE_Facility_Data_man.xlsx\n",
      "C:\\Users\\HP\\Documents\\fac_2014_15\\DISE_Facility_Data_meg.xlsx\n",
      "C:\\Users\\HP\\Documents\\fac_2014_15\\DISE_Facility_Data_miz.xlsx\n",
      "C:\\Users\\HP\\Documents\\fac_2014_15\\DISE_Facility_Data_mp.xlsx\n",
      "C:\\Users\\HP\\Documents\\fac_2014_15\\DISE_Facility_Data_nag.xlsx\n",
      "C:\\Users\\HP\\Documents\\fac_2014_15\\DISE_Facility_Data_ori.xlsx\n",
      "C:\\Users\\HP\\Documents\\fac_2014_15\\DISE_Facility_Data_pon.xlsx\n",
      "C:\\Users\\HP\\Documents\\fac_2014_15\\DISE_Facility_Data_pun.xlsx\n",
      "C:\\Users\\HP\\Documents\\fac_2014_15\\DISE_Facility_Data_raj.xlsx\n",
      "C:\\Users\\HP\\Documents\\fac_2014_15\\DISE_Facility_Data_sik.xlsx\n",
      "C:\\Users\\HP\\Documents\\fac_2014_15\\DISE_Facility_Data_tel.xlsx\n",
      "C:\\Users\\HP\\Documents\\fac_2014_15\\DISE_Facility_Data_tn.xlsx\n",
      "C:\\Users\\HP\\Documents\\fac_2014_15\\DISE_Facility_Data_tri.xlsx\n",
      "C:\\Users\\HP\\Documents\\fac_2014_15\\DISE_Facility_Data_up.xlsx\n",
      "C:\\Users\\HP\\Documents\\fac_2014_15\\DISE_Facility_Data_utr.xlsx\n",
      "C:\\Users\\HP\\Documents\\fac_2014_15\\DISE_Facility_Data_wb.xlsx\n"
     ]
    }
   ],
   "source": [
    "for filename in files:\n",
    "    df = pd.read_excel(filename,index_col=None,header=0)\n",
    "    print(filename)\n",
    "    files1.append(df)"
   ]
  },
  {
   "cell_type": "code",
   "execution_count": 6,
   "metadata": {},
   "outputs": [
    {
     "data": {
      "text/plain": [
       "(1487845, 24)"
      ]
     },
     "execution_count": 6,
     "metadata": {},
     "output_type": "execute_result"
    }
   ],
   "source": [
    "final_df=pd.concat(files1,axis=0,ignore_index=True)\n",
    "final_df.shape"
   ]
  },
  {
   "cell_type": "code",
   "execution_count": null,
   "metadata": {},
   "outputs": [],
   "source": [
    "final_df.head()"
   ]
  },
  {
   "cell_type": "code",
   "execution_count": 7,
   "metadata": {},
   "outputs": [],
   "source": [
    "final_df.to_csv(\"C:\\\\Users\\\\HP\\\\Documents\\\\dise_files_fac\\\\fac1_2014_15.csv\", index = False)"
   ]
  }
 ],
 "metadata": {
  "kernelspec": {
   "display_name": "Python 3",
   "language": "python",
   "name": "python3"
  },
  "language_info": {
   "codemirror_mode": {
    "name": "ipython",
    "version": 3
   },
   "file_extension": ".py",
   "mimetype": "text/x-python",
   "name": "python",
   "nbconvert_exporter": "python",
   "pygments_lexer": "ipython3",
   "version": "3.7.6"
  }
 },
 "nbformat": 4,
 "nbformat_minor": 2
}
